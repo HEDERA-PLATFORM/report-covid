{
 "cells": [
  {
   "cell_type": "markdown",
   "metadata": {},
   "source": [
    "# Data for Berlin\n",
    "\n",
    "Data for the city of Berlin are periodically reported from the [Landesamt\n",
    "für Gesundheit und Soziales](https://www.berlin.de/corona/fallstatistik/) of the Berlin Council."
   ]
  },
  {
   "cell_type": "code",
   "execution_count": 1,
   "metadata": {
    "tags": [
     "hidecode"
    ]
   },
   "outputs": [
    {
     "ename": "NameError",
     "evalue": "name 'confirmed' is not defined",
     "output_type": "error",
     "traceback": [
      "\u001b[0;31m---------------------------------------------------------------------------\u001b[0m",
      "\u001b[0;31mNameError\u001b[0m                                 Traceback (most recent call last)",
      "\u001b[0;32m<ipython-input-1-b0e69297b649>\u001b[0m in \u001b[0;36m<module>\u001b[0;34m\u001b[0m\n\u001b[1;32m     28\u001b[0m \u001b[0mdeaths_daily\u001b[0m\u001b[0;34m.\u001b[0m\u001b[0mappend\u001b[0m\u001b[0;34m(\u001b[0m\u001b[0;36m0\u001b[0m\u001b[0;34m)\u001b[0m\u001b[0;34m\u001b[0m\u001b[0;34m\u001b[0m\u001b[0m\n\u001b[1;32m     29\u001b[0m \u001b[0;34m\u001b[0m\u001b[0m\n\u001b[0;32m---> 30\u001b[0;31m \u001b[0;32mfor\u001b[0m \u001b[0mi\u001b[0m \u001b[0;32min\u001b[0m \u001b[0mrange\u001b[0m\u001b[0;34m(\u001b[0m\u001b[0;36m0\u001b[0m\u001b[0;34m,\u001b[0m\u001b[0mlen\u001b[0m\u001b[0;34m(\u001b[0m\u001b[0mconfirmed\u001b[0m\u001b[0;34m)\u001b[0m\u001b[0;34m-\u001b[0m\u001b[0;36m1\u001b[0m\u001b[0;34m)\u001b[0m\u001b[0;34m:\u001b[0m\u001b[0;34m\u001b[0m\u001b[0;34m\u001b[0m\u001b[0m\n\u001b[0m\u001b[1;32m     31\u001b[0m     \u001b[0mconfirmed_daily\u001b[0m\u001b[0;34m.\u001b[0m\u001b[0mappend\u001b[0m\u001b[0;34m(\u001b[0m\u001b[0mberlin\u001b[0m\u001b[0;34m[\u001b[0m\u001b[0;34m'confirmed'\u001b[0m\u001b[0;34m]\u001b[0m\u001b[0;34m[\u001b[0m\u001b[0mi\u001b[0m\u001b[0;34m+\u001b[0m\u001b[0;36m1\u001b[0m\u001b[0;34m]\u001b[0m\u001b[0;34m-\u001b[0m\u001b[0mberlin\u001b[0m\u001b[0;34m[\u001b[0m\u001b[0;34m'confirmed'\u001b[0m\u001b[0;34m]\u001b[0m\u001b[0;34m[\u001b[0m\u001b[0mi\u001b[0m\u001b[0;34m]\u001b[0m\u001b[0;34m)\u001b[0m\u001b[0;34m\u001b[0m\u001b[0;34m\u001b[0m\u001b[0m\n\u001b[1;32m     32\u001b[0m     \u001b[0mdeaths_daily\u001b[0m\u001b[0;34m.\u001b[0m\u001b[0mappend\u001b[0m\u001b[0;34m(\u001b[0m\u001b[0mberlin\u001b[0m\u001b[0;34m[\u001b[0m\u001b[0;34m'deaths'\u001b[0m\u001b[0;34m]\u001b[0m\u001b[0;34m[\u001b[0m\u001b[0mi\u001b[0m\u001b[0;34m+\u001b[0m\u001b[0;36m1\u001b[0m\u001b[0;34m]\u001b[0m\u001b[0;34m-\u001b[0m\u001b[0mberlin\u001b[0m\u001b[0;34m[\u001b[0m\u001b[0;34m'deaths'\u001b[0m\u001b[0;34m]\u001b[0m\u001b[0;34m[\u001b[0m\u001b[0mi\u001b[0m\u001b[0;34m]\u001b[0m\u001b[0;34m)\u001b[0m\u001b[0;34m\u001b[0m\u001b[0;34m\u001b[0m\u001b[0m\n",
      "\u001b[0;31mNameError\u001b[0m: name 'confirmed' is not defined"
     ]
    }
   ],
   "source": [
    "# for plotly\n",
    "from plotly.offline import iplot\n",
    "from plotly.offline import init_notebook_mode, plot\n",
    "from IPython.core.display import display, HTML\n",
    "import plotly as py\n",
    "import plotly.tools as tls\n",
    "\n",
    "import datetime\n",
    "import numpy as np\n",
    "import pandas as pd\n",
    "from hedera_covid import DataHandler, smooth_data, plot_death_rate, plot_daily_cases, plot_confirmed_cases\n",
    "\n",
    "# load data\n",
    "berlin_data = '../../DE-Data/data.csv'\n",
    "berlin = pd.read_csv(berlin_data)\n",
    "berlin.columns = ['date','confirmed','treated','intensive','deaths']\n",
    "\n",
    "# preparation\n",
    "N = len(confirmed)\n",
    "dates = []\n",
    "for d in berlin['date']:\n",
    "    dt = datetime.datetime(int(d[6:10]),int(d[3:5]),int(d[0:2]))\n",
    "    dates.append(dt.strftime('%d %b'))\n",
    "\n",
    "confirmed_daily = []\n",
    "deaths_daily = []\n",
    "\n",
    "confirmed_daily.append(0)\n",
    "deaths_daily.append(0)\n",
    "\n",
    "for i in range(0,N-1):\n",
    "    confirmed_daily.append(berlin['confirmed'][i+1]-berlin['confirmed'][i])\n",
    "    deaths_daily.append(berlin['deaths'][i+1]-berlin['deaths'][i])\n",
    "    \n",
    "confirmed = smooth_data(berlin['confirmed'],n=7)\n",
    "serious = smooth_data(berlin['intensive'],n=3)\n",
    "deaths = smooth_data(berlin['deaths'],n=3)\n",
    "treated = smooth_data(berlin['treated'],n=3) \n",
    "\n"
   ]
  },
  {
   "cell_type": "markdown",
   "metadata": {},
   "source": [
    "## Outbreak over time"
   ]
  },
  {
   "cell_type": "code",
   "execution_count": null,
   "metadata": {
    "tags": [
     "hidecode"
    ]
   },
   "outputs": [],
   "source": [
    "import plotly.graph_objects as go\n",
    "init_notebook_mode(connected=True)\n",
    "\n",
    "fig = go.Figure()\n",
    "\n",
    "\n",
    "fig.add_trace(go.Bar(\n",
    "    x=dates,\n",
    "    y=confirmed,\n",
    "    name='Reported Cases (Total = ' + str(berlin['confirmed'][N-1]) + ')'\n",
    "))\n",
    "fig.add_trace(go.Bar(\n",
    "    x=dates,\n",
    "    y=deaths,\n",
    "    name='Reported Deaths (Total = ' + str(berlin['deaths'][N-1]) + ')'\n",
    "))\n",
    "\n",
    "\n",
    "fig.add_trace(go.Scatter(\n",
    "    x=dates,\n",
    "    y=serious,\n",
    "    name='Intensive Care (Total = ' + str(berlin['intensive'][N-1]) + ')'\n",
    "))\n",
    "    \n",
    "fig.update_layout(xaxis_tickangle=-90)\n",
    "\n",
    "plot(fig, filename = 'figure.html')\n",
    "display(HTML('figure.html'))"
   ]
  },
  {
   "cell_type": "markdown",
   "metadata": {},
   "source": [
    "## Daily variation"
   ]
  },
  {
   "cell_type": "code",
   "execution_count": null,
   "metadata": {
    "tags": [
     "hidecode"
    ]
   },
   "outputs": [],
   "source": [
    "import plotly.graph_objects as go\n",
    "init_notebook_mode(connected=True)\n",
    "\n",
    "fig = go.Figure()\n",
    "\n",
    "\n",
    "fig.add_trace(go.Bar(\n",
    "    x=dates,\n",
    "    y=confirmed_daily,\n",
    "    name='Daily Reported Cases (Total = ' + str(berlin['confirmed'][N-1]) + ')',\n",
    "    marker = {'color': \"#117A65\"}\n",
    "))\n",
    "n_smooth = 7\n",
    "fig.add_trace(go.Scatter(\n",
    "    x=dates,\n",
    "    y=smooth_data(confirmed_daily,n=n_smooth),\n",
    "    name='Averaged over ' + str(n_smooth) + ' days',\n",
    "    marker = {'color': \"#48C9B0\"}\n",
    "))\n",
    "\n",
    "\n",
    "fig.add_trace(go.Bar(\n",
    "    x=dates,\n",
    "    y=deaths_daily,\n",
    "    name='Daily Reported Deaths (Total = ' + str(berlin['deaths'][N-1]) + ')',\n",
    "    marker = {'color':'#F7DC6F'}\n",
    "))\n",
    "\n",
    "n_smooth = 3\n",
    "fig.add_trace(go.Scatter(\n",
    "    x=dates,\n",
    "    y=smooth_data(deaths_daily,n=n_smooth),\n",
    "    name='Averaged over ' + str(n_smooth) + ' days',\n",
    "    marker = {'color': \"#EB984E\"}\n",
    "))\n",
    "    \n",
    "fig.update_layout(xaxis_tickangle=-90)\n",
    "\n",
    "plot(fig, filename = 'figure.html')\n",
    "display(HTML('figure.html'))"
   ]
  },
  {
   "cell_type": "code",
   "execution_count": null,
   "metadata": {},
   "outputs": [],
   "source": []
  }
 ],
 "metadata": {
  "kernelspec": {
   "display_name": "Python 3",
   "language": "python",
   "name": "python3"
  },
  "language_info": {
   "codemirror_mode": {
    "name": "ipython",
    "version": 3
   },
   "file_extension": ".py",
   "mimetype": "text/x-python",
   "name": "python",
   "nbconvert_exporter": "python",
   "pygments_lexer": "ipython3",
   "version": "3.7.6"
  }
 },
 "nbformat": 4,
 "nbformat_minor": 4
}
