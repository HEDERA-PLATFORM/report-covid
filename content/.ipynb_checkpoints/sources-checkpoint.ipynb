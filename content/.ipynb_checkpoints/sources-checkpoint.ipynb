{
 "cells": [
  {
   "cell_type": "markdown",
   "metadata": {},
   "source": [
    "# Used sources\n",
    "\n",
    "## Worldwide\n",
    "\n",
    "For the main analysis, we used the data made available from the [Johns Hopkins CCSE](https://github.com/CSSEGISandData/COVID-19).\n",
    "\n",
    "\n",
    "## Italy\n",
    "\n",
    "Data for italy are available on a daily basis from [official sources](http://www.protezionecivile.gov.it) and can be downloaded from the corresponding [repository](https://github.com/pcm-dpc/COVID-19)\n",
    "\n",
    "## Germany\n",
    "\n",
    "* Data for the city of Berlin are periodically reported from the [Landesamt für Gesundheit und Soziales](https://www.berlin.de/corona/fallstatistik/) of the Berlin Council.\n",
    "\n",
    "* Data related to the intensive care capacity have been downloaded from the [Intensivregister](https://www.intensivregister.de/)\n",
    "\n",
    "\n",
    "## Literature & Co.\n",
    "\n",
    "* The reproduction number R0 has been estimated following [this article](https://en.wikipedia.org/wiki/Basic_reproduction_number)."
   ]
  },
  {
   "cell_type": "code",
   "execution_count": null,
   "metadata": {},
   "outputs": [],
   "source": []
  }
 ],
 "metadata": {
  "kernelspec": {
   "display_name": "Python 3",
   "language": "python",
   "name": "python3"
  },
  "language_info": {
   "codemirror_mode": {
    "name": "ipython",
    "version": 3
   },
   "file_extension": ".py",
   "mimetype": "text/x-python",
   "name": "python",
   "nbconvert_exporter": "python",
   "pygments_lexer": "ipython3",
   "version": "3.7.6"
  }
 },
 "nbformat": 4,
 "nbformat_minor": 4
}
