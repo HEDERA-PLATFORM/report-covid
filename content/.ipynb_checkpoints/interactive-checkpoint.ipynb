{
 "cells": [
  {
   "cell_type": "markdown",
   "metadata": {},
   "source": [
    "# INTERACTIVE ANALYSIS\n",
    "\n",
    "With the interactive analysis feature, you can compare variables whose graphs or tables are not in the automated digital report. You can simply drag and drop the variables to display them in the x or y axis of the table/graph. "
   ]
  },
  {
   "cell_type": "code",
   "execution_count": 1,
   "metadata": {
    "scrolled": true,
    "tags": [
     "hidecode"
    ]
   },
   "outputs": [
    {
     "data": {
      "text/html": [
       "\n",
       "        <iframe\n",
       "            width=\"100%\"\n",
       "            height=\"500\"\n",
       "            src=\"pivottablejs.html\"\n",
       "            frameborder=\"0\"\n",
       "            allowfullscreen\n",
       "        ></iframe>\n",
       "        "
      ],
      "text/plain": [
       "<IPython.lib.display.IFrame at 0x117d612b0>"
      ]
     },
     "execution_count": 1,
     "metadata": {},
     "output_type": "execute_result"
    }
   ],
   "source": [
    "HIT_PATH = '../../../../src/'\n",
    "institution_id = 7\n",
    "lang = 'en'\n",
    "import os,sys, folium\n",
    "sys.path.insert(0, os.path.normpath(os.path.join(os.path.abspath(''), HIT_PATH)))\n",
    "import hedera_types as hedera\n",
    "import odk_interface as odk\n",
    "\n",
    "from pivottablejs import pivot_ui\n",
    "import matplotlib.pyplot as plt\n",
    "\n",
    "institution_id = 7\n",
    "mfi = hedera.mfi(institution_id,setPathBook=True)\n",
    "data = mfi.read_survey(mfi.odk_data_name)\n",
    "mfi.HH = odk.households(data)\n",
    "\n",
    "pivot_ui(mfi.HH, outfile='/Users/nataliarealpecarrillo/Documents/HEDERA/code/pepi/report-0/content/pivottablejs.html')\n"
   ]
  },
  {
   "cell_type": "code",
   "execution_count": null,
   "metadata": {},
   "outputs": [],
   "source": []
  }
 ],
 "metadata": {
  "kernelspec": {
   "display_name": "Python 3",
   "language": "python",
   "name": "python3"
  },
  "language_info": {
   "codemirror_mode": {
    "name": "ipython",
    "version": 3
   },
   "file_extension": ".py",
   "mimetype": "text/x-python",
   "name": "python",
   "nbconvert_exporter": "python",
   "pygments_lexer": "ipython3",
   "version": "3.7.6"
  }
 },
 "nbformat": 4,
 "nbformat_minor": 4
}
